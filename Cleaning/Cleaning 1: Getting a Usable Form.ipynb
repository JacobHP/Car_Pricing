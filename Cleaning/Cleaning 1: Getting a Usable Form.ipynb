{
 "cells": [
  {
   "cell_type": "code",
   "execution_count": 1,
   "metadata": {},
   "outputs": [
    {
     "data": {
      "text/html": [
       "<div>\n",
       "<style scoped>\n",
       "    .dataframe tbody tr th:only-of-type {\n",
       "        vertical-align: middle;\n",
       "    }\n",
       "\n",
       "    .dataframe tbody tr th {\n",
       "        vertical-align: top;\n",
       "    }\n",
       "\n",
       "    .dataframe thead th {\n",
       "        text-align: right;\n",
       "    }\n",
       "</style>\n",
       "<table border=\"1\" class=\"dataframe\">\n",
       "  <thead>\n",
       "    <tr style=\"text-align: right;\">\n",
       "      <th></th>\n",
       "      <th>Unnamed: 0</th>\n",
       "      <th>Title</th>\n",
       "      <th>Grabber</th>\n",
       "      <th>Specs</th>\n",
       "      <th>Price</th>\n",
       "      <th>Unnamed: 0.1</th>\n",
       "    </tr>\n",
       "  </thead>\n",
       "  <tbody>\n",
       "    <tr>\n",
       "      <th>0</th>\n",
       "      <td>0</td>\n",
       "      <td>\\nHonda Accord 2.2 i-CDTi Sport 4dr\\n</td>\n",
       "      <td>NaN</td>\n",
       "      <td>['2003 (53 reg)', 'Saloon', '137,000 miles', '...</td>\n",
       "      <td>550.0</td>\n",
       "      <td>0.0</td>\n",
       "    </tr>\n",
       "    <tr>\n",
       "      <th>1</th>\n",
       "      <td>1</td>\n",
       "      <td>\\nHonda Jazz 1.4 i-DSI SE 5dr\\n</td>\n",
       "      <td>cheap and most reliable car</td>\n",
       "      <td>['\\n\\nCAT\\n\\n\\nWrite-off Category Icon\\n\\n\\n\\n...</td>\n",
       "      <td>705.0</td>\n",
       "      <td>1.0</td>\n",
       "    </tr>\n",
       "    <tr>\n",
       "      <th>2</th>\n",
       "      <td>2</td>\n",
       "      <td>\\nHonda Civic 1.4 i Max Limited Edition 5dr\\n</td>\n",
       "      <td>Honda Civic 2002</td>\n",
       "      <td>['2002 (52 reg)', 'Hatchback', '58,000 miles',...</td>\n",
       "      <td>950.0</td>\n",
       "      <td>2.0</td>\n",
       "    </tr>\n",
       "    <tr>\n",
       "      <th>3</th>\n",
       "      <td>3</td>\n",
       "      <td>\\nHonda Jazz 1.4 i-DSI SE 5dr\\n</td>\n",
       "      <td>JULY 2021 MOT+2 KEYS+</td>\n",
       "      <td>['2006 (56 reg)', 'Hatchback', '122,500 miles'...</td>\n",
       "      <td>995.0</td>\n",
       "      <td>3.0</td>\n",
       "    </tr>\n",
       "    <tr>\n",
       "      <th>4</th>\n",
       "      <td>4</td>\n",
       "      <td>\\nHonda Civic 1.4 MAX 5d 88 BHP MOT - 01/09/20...</td>\n",
       "      <td>CALL 07977223024 FOR QUESTIONS</td>\n",
       "      <td>['2001 (51 reg)', 'Hatchback', '91,762 miles',...</td>\n",
       "      <td>995.0</td>\n",
       "      <td>4.0</td>\n",
       "    </tr>\n",
       "  </tbody>\n",
       "</table>\n",
       "</div>"
      ],
      "text/plain": [
       "   Unnamed: 0                                              Title  \\\n",
       "0           0          \\nHonda Accord 2.2 i-CDTi Sport 4dr\\n       \n",
       "1           1                \\nHonda Jazz 1.4 i-DSI SE 5dr\\n       \n",
       "2           2  \\nHonda Civic 1.4 i Max Limited Edition 5dr\\n       \n",
       "3           3                \\nHonda Jazz 1.4 i-DSI SE 5dr\\n       \n",
       "4           4  \\nHonda Civic 1.4 MAX 5d 88 BHP MOT - 01/09/20...   \n",
       "\n",
       "                          Grabber  \\\n",
       "0                             NaN   \n",
       "1     cheap and most reliable car   \n",
       "2                Honda Civic 2002   \n",
       "3           JULY 2021 MOT+2 KEYS+   \n",
       "4  CALL 07977223024 FOR QUESTIONS   \n",
       "\n",
       "                                               Specs  Price  Unnamed: 0.1  \n",
       "0  ['2003 (53 reg)', 'Saloon', '137,000 miles', '...  550.0           0.0  \n",
       "1  ['\\n\\nCAT\\n\\n\\nWrite-off Category Icon\\n\\n\\n\\n...  705.0           1.0  \n",
       "2  ['2002 (52 reg)', 'Hatchback', '58,000 miles',...  950.0           2.0  \n",
       "3  ['2006 (56 reg)', 'Hatchback', '122,500 miles'...  995.0           3.0  \n",
       "4  ['2001 (51 reg)', 'Hatchback', '91,762 miles',...  995.0           4.0  "
      ]
     },
     "execution_count": 1,
     "metadata": {},
     "output_type": "execute_result"
    }
   ],
   "source": [
    "import pandas as pd \n",
    "import re\n",
    "from ast import literal_eval\n",
    "df=pd.read_csv('Master_data.csv')\n",
    "df.head()"
   ]
  },
  {
   "cell_type": "code",
   "execution_count": 2,
   "metadata": {},
   "outputs": [
    {
     "data": {
      "text/plain": [
       "(102424, 6)"
      ]
     },
     "execution_count": 2,
     "metadata": {},
     "output_type": "execute_result"
    }
   ],
   "source": [
    "df.shape"
   ]
  },
  {
   "cell_type": "code",
   "execution_count": 3,
   "metadata": {},
   "outputs": [
    {
     "data": {
      "text/plain": [
       "0    2003\n",
       "1    2003\n",
       "2    2002\n",
       "3    2006\n",
       "4    2001\n",
       "Name: year, dtype: object"
      ]
     },
     "execution_count": 3,
     "metadata": {},
     "output_type": "execute_result"
    }
   ],
   "source": [
    "df['Specs']=df['Specs'].apply(literal_eval) #string to list\n",
    "#year\n",
    "def get_year(specs):\n",
    "    for i in range(0, len(specs)):\n",
    "        if bool(re.search('\\d\\d\\d\\d', specs[i]))==True and 'reg' in specs[i]: \n",
    "            return specs[i] \n",
    "        \n",
    "df['year']=df['Specs'].apply(get_year)\n",
    "df['year']=df['year'].apply(lambda x: x[:4] if x!=None else None)\n",
    "df['year'].head()"
   ]
  },
  {
   "cell_type": "code",
   "execution_count": 4,
   "metadata": {},
   "outputs": [
    {
     "data": {
      "text/plain": [
       "0       Saloon\n",
       "1    Hatchback\n",
       "2    Hatchback\n",
       "3    Hatchback\n",
       "4    Hatchback\n",
       "Name: style, dtype: object"
      ]
     },
     "execution_count": 4,
     "metadata": {},
     "output_type": "execute_result"
    }
   ],
   "source": [
    "#styles\n",
    "list_styles=['Hatchback', 'Estate','Coupe','MPV','Saloon','SUV','Convertible','Pickup']\n",
    "\n",
    "def get_styles(specs):\n",
    "    list_styles=['Hatchback', 'Estate','Coupe','MPV','Saloon','SUV','Convertible','Pickup']\n",
    "    for i in range(0, len(specs)):\n",
    "        if specs[i] in list_styles:\n",
    "            return specs[i]\n",
    "df['style']=df['Specs'].apply(get_styles)\n",
    "df['style'].head()"
   ]
  },
  {
   "cell_type": "code",
   "execution_count": 5,
   "metadata": {},
   "outputs": [
    {
     "data": {
      "text/plain": [
       "0    137000.0\n",
       "1    106262.0\n",
       "2     58000.0\n",
       "3    122500.0\n",
       "4     91762.0\n",
       "Name: miles, dtype: float64"
      ]
     },
     "execution_count": 5,
     "metadata": {},
     "output_type": "execute_result"
    }
   ],
   "source": [
    "#miles  \n",
    "def get_miles(specs):\n",
    "    for i in range(0, len(specs)):\n",
    "        if 'miles' in specs[i]:\n",
    "            return specs[i]\n",
    "df['miles']=df['Specs'].apply(get_miles)\n",
    "df['miles']=df['miles'].apply(lambda x: int(''.join(n for n in x if n.isdigit() )) if x!=None else None)\n",
    "df['miles'].head()"
   ]
  },
  {
   "cell_type": "code",
   "execution_count": 6,
   "metadata": {},
   "outputs": [
    {
     "data": {
      "text/plain": [
       "0    2.2\n",
       "1    1.4\n",
       "2    1.4\n",
       "3    1.4\n",
       "4    NaN\n",
       "Name: engine, dtype: float64"
      ]
     },
     "execution_count": 6,
     "metadata": {},
     "output_type": "execute_result"
    }
   ],
   "source": [
    "#Engine\n",
    "def get_eng(specs): \n",
    "    for i in range(0, len(specs)):\n",
    "        if bool(re.search('\\d\\.(\\d)+[L]',specs[i]))==True: \n",
    "            return specs[i]\n",
    "df['engine']=df['Specs'].apply(get_eng)\n",
    "df['engine']=df['engine'].apply(lambda x: float(''.join(n for n in x if (n.isdigit() or n =='.'))) if x!=None else None)\n",
    "df['engine'].head()"
   ]
  },
  {
   "cell_type": "code",
   "execution_count": 7,
   "metadata": {},
   "outputs": [
    {
     "data": {
      "text/plain": [
       "0    138.0\n",
       "1     82.0\n",
       "2     89.0\n",
       "3     82.0\n",
       "4     89.0\n",
       "Name: power, dtype: float64"
      ]
     },
     "execution_count": 7,
     "metadata": {},
     "output_type": "execute_result"
    }
   ],
   "source": [
    "#horsepower - measurements are resonably comparable so we don't bother converting\n",
    "def get_power(specs):\n",
    "    for i in range(0, len(specs)): \n",
    "        if bool(re.search('(\\d)+[BHPS]{2,3}',specs[i]))==True:\n",
    "            return specs[i]\n",
    "df['power']=df['Specs'].apply(get_power)\n",
    "df['power']=df['power'].apply(lambda x: int(''.join(n for n in x if n.isdigit())) if x!=None else None)\n",
    "df['power'].head()"
   ]
  },
  {
   "cell_type": "code",
   "execution_count": 8,
   "metadata": {},
   "outputs": [
    {
     "data": {
      "text/plain": [
       "0    Manual\n",
       "1    Manual\n",
       "2    Manual\n",
       "3    Manual\n",
       "4    Manual\n",
       "Name: transmission, dtype: object"
      ]
     },
     "execution_count": 8,
     "metadata": {},
     "output_type": "execute_result"
    }
   ],
   "source": [
    "#transmission\n",
    "def get_transmission(specs):\n",
    "    if 'Manual' in specs: \n",
    "        return 'Manual'\n",
    "    elif 'Automatic' in specs: \n",
    "        return 'Automatic'\n",
    "df['transmission']=df['Specs'].apply(get_transmission)\n",
    "df['transmission'].head()"
   ]
  },
  {
   "cell_type": "code",
   "execution_count": 9,
   "metadata": {},
   "outputs": [
    {
     "name": "stdout",
     "output_type": "stream",
     "text": [
      "['Diesel' 'Petrol' None]\n"
     ]
    },
    {
     "data": {
      "text/plain": [
       "0    Diesel\n",
       "1    Petrol\n",
       "2    Petrol\n",
       "3    Petrol\n",
       "4    Petrol\n",
       "Name: fuel, dtype: object"
      ]
     },
     "execution_count": 9,
     "metadata": {},
     "output_type": "execute_result"
    }
   ],
   "source": [
    "#fuel\n",
    "\n",
    "def get_fuel(specs):\n",
    "    if 'Petrol' in specs:\n",
    "        return 'Petrol'\n",
    "    elif 'Diesel' in specs: \n",
    "        return 'Diesel'\n",
    "\n",
    "df['fuel']=df['Specs'].apply(get_fuel)\n",
    "print(df['fuel'].unique())\n",
    "df['fuel'].head()"
   ]
  },
  {
   "cell_type": "code",
   "execution_count": 10,
   "metadata": {},
   "outputs": [
    {
     "data": {
      "text/plain": [
       "0    3.0\n",
       "1    3.0\n",
       "2    5.0\n",
       "3    3.0\n",
       "4    NaN\n",
       "Name: owners, dtype: float64"
      ]
     },
     "execution_count": 10,
     "metadata": {},
     "output_type": "execute_result"
    }
   ],
   "source": [
    "#owners\n",
    "def get_owners(specs):\n",
    "    for i in range(0, len(specs)):\n",
    "        if 'owner' in specs[i]:\n",
    "            return specs[i]\n",
    "df['owners']=df['Specs'].apply(get_owners)\n",
    "df['owners']=df['owners'].apply(lambda x: int(''.join(n for n in x if n.isdigit())) if x!=None else None)\n",
    "df['owners'].head()"
   ]
  },
  {
   "cell_type": "code",
   "execution_count": 11,
   "metadata": {},
   "outputs": [
    {
     "name": "stdout",
     "output_type": "stream",
     "text": [
      "[None 'Part service history' 'Full service history' 'No service history'\n",
      " 'Full dealership history' 'Full service history partially by franchise']\n"
     ]
    },
    {
     "data": {
      "text/plain": [
       "0     None\n",
       "1     None\n",
       "2     None\n",
       "3     None\n",
       "4     None\n",
       "5     Part\n",
       "6     None\n",
       "7     Full\n",
       "8     None\n",
       "9     None\n",
       "10    None\n",
       "11    None\n",
       "12    None\n",
       "13    None\n",
       "14    Part\n",
       "15    None\n",
       "16    None\n",
       "17    None\n",
       "18      No\n",
       "19    None\n",
       "Name: serv_hist, dtype: object"
      ]
     },
     "execution_count": 11,
     "metadata": {},
     "output_type": "execute_result"
    }
   ],
   "source": [
    "#servhist\n",
    "def get_servhist(specs):\n",
    "    for i in range(0, len(specs)):\n",
    "        if 'history' in specs[i]:\n",
    "            return specs[i]\n",
    "def serv_convertor(serv):\n",
    "    if serv==None: \n",
    "        return None\n",
    "    elif serv[:4]=='Full':\n",
    "        return 'Full'\n",
    "    elif serv[:4]=='Part':\n",
    "        return 'Part'\n",
    "    else: \n",
    "        return 'No'\n",
    "    \n",
    "df['serv_hist']=df['Specs'].apply(get_servhist)\n",
    "print(df['serv_hist'].unique())\n",
    "df['serv_hist']=df['serv_hist'].apply(serv_convertor)\n",
    "df['serv_hist'].head(20)"
   ]
  },
  {
   "cell_type": "code",
   "execution_count": 12,
   "metadata": {},
   "outputs": [
    {
     "name": "stdout",
     "output_type": "stream",
     "text": [
      "[0 1]\n"
     ]
    },
    {
     "data": {
      "text/plain": [
       "0    0\n",
       "1    0\n",
       "2    0\n",
       "3    1\n",
       "4    0\n",
       "Name: ULEZ, dtype: int64"
      ]
     },
     "execution_count": 12,
     "metadata": {},
     "output_type": "execute_result"
    }
   ],
   "source": [
    "#ULEZ - 1 if has, 0 if not\n",
    "def get_ULEZ(specs):\n",
    "    if 'ULEZ' in specs: \n",
    "        return 1\n",
    "    else: \n",
    "        return 0\n",
    "\n",
    "df['ULEZ']=df['Specs'].apply(get_ULEZ)\n",
    "print(df['ULEZ'].unique())\n",
    "df['ULEZ'].head()"
   ]
  },
  {
   "cell_type": "code",
   "execution_count": 13,
   "metadata": {},
   "outputs": [
    {
     "name": "stdout",
     "output_type": "stream",
     "text": [
      "[0 1]\n"
     ]
    },
    {
     "data": {
      "text/plain": [
       "0    0\n",
       "1    1\n",
       "2    0\n",
       "3    0\n",
       "4    0\n",
       "Name: CatN, dtype: int64"
      ]
     },
     "execution_count": 13,
     "metadata": {},
     "output_type": "execute_result"
    }
   ],
   "source": [
    "#those which were previously written off and repaired \n",
    "df['CatN']= df['Specs'].apply(lambda x: 1 if bool(re.search('\\d\\d\\d\\d', x[0]))==False else 0)\n",
    "print(df['CatN'].unique())\n",
    "df['CatN'].head()"
   ]
  },
  {
   "cell_type": "code",
   "execution_count": 14,
   "metadata": {},
   "outputs": [
    {
     "data": {
      "text/plain": [
       "0    4.0\n",
       "1    5.0\n",
       "2    5.0\n",
       "3    5.0\n",
       "4    5.0\n",
       "Name: doors, dtype: float64"
      ]
     },
     "execution_count": 14,
     "metadata": {},
     "output_type": "execute_result"
    }
   ],
   "source": [
    "#doors\n",
    "def get_doors(title):\n",
    "    try: \n",
    "        return re.search('\\dd(r)?', title)[0]\n",
    "    except TypeError: \n",
    "        return None \n",
    "    \n",
    "df['doors']=df['Title'].apply(get_doors)\n",
    "\n",
    "def door_num(doors):\n",
    "    try:\n",
    "        return re.search('\\d', doors)[0]\n",
    "    except TypeError: \n",
    "        return None\n",
    "    \n",
    "df['doors']=df['doors'].apply(door_num)\n",
    "df['doors']=df['doors'].apply(lambda x: int(x) if x !=None else None)\n",
    "df['doors'].head()"
   ]
  },
  {
   "cell_type": "code",
   "execution_count": 15,
   "metadata": {},
   "outputs": [
    {
     "data": {
      "text/plain": [
       "0    Honda Accord\n",
       "1      Honda Jazz\n",
       "2     Honda Civic\n",
       "3      Honda Jazz\n",
       "4     Honda Civic\n",
       "Name: model, dtype: object"
      ]
     },
     "execution_count": 15,
     "metadata": {},
     "output_type": "execute_result"
    }
   ],
   "source": [
    "#make and model\n",
    "def get_make_model(title):\n",
    "    title=title[1:]\n",
    "    words=title.split(' ')\n",
    "    make_model_list=words[0:2] #this wont be perfect but will likely just use brand anyway\n",
    "    make_model=' '.join(make_model_list)\n",
    "    return make_model\n",
    "df['model']=df['Title'].apply(get_make_model)\n",
    "df['model'].head()"
   ]
  },
  {
   "cell_type": "code",
   "execution_count": 16,
   "metadata": {},
   "outputs": [
    {
     "data": {
      "text/plain": [
       "0     550.0\n",
       "1     705.0\n",
       "2     950.0\n",
       "3     995.0\n",
       "4     995.0\n",
       "5     999.0\n",
       "6    1000.0\n",
       "7    1150.0\n",
       "8    1200.0\n",
       "9    1399.0\n",
       "Name: Price, dtype: object"
      ]
     },
     "execution_count": 16,
     "metadata": {},
     "output_type": "execute_result"
    }
   ],
   "source": [
    "df['Price'].head(10)"
   ]
  },
  {
   "cell_type": "code",
   "execution_count": 17,
   "metadata": {},
   "outputs": [
    {
     "data": {
      "text/plain": [
       "0     550.0\n",
       "1     705.0\n",
       "2     950.0\n",
       "3     995.0\n",
       "4     995.0\n",
       "5     999.0\n",
       "6    1000.0\n",
       "7    1150.0\n",
       "8    1200.0\n",
       "9    1399.0\n",
       "Name: Price, dtype: float64"
      ]
     },
     "execution_count": 17,
     "metadata": {},
     "output_type": "execute_result"
    }
   ],
   "source": [
    "#converting prices to float\n",
    "\n",
    "df['Price']=df['Price'].apply(lambda x: float(''.join(n for n in x if (n.isdigit() or n =='.'))))\n",
    "df['Price'].head(10)"
   ]
  },
  {
   "cell_type": "code",
   "execution_count": 18,
   "metadata": {},
   "outputs": [],
   "source": [
    "#flags for issues in grabber\n",
    "list_rep=['damage','damaged','nonrunner','non-runner','non runner','needs','need','px','px to clear','part','parts','exchange','repair','repairs','spare','spares','write off','written off','failed mot','mot fail', 'does not work']\n"
   ]
  },
  {
   "cell_type": "code",
   "execution_count": 19,
   "metadata": {},
   "outputs": [
    {
     "data": {
      "text/plain": [
       "0    0\n",
       "1    0\n",
       "2    0\n",
       "3    0\n",
       "4    0\n",
       "Name: issue_flag, dtype: int64"
      ]
     },
     "execution_count": 19,
     "metadata": {},
     "output_type": "execute_result"
    }
   ],
   "source": [
    "def grabber_flag(grabber):\n",
    "    if grabber==None: \n",
    "        return 0\n",
    "    for flag in list_rep: \n",
    "        if flag in grabber: \n",
    "            return 1\n",
    "    return 0\n",
    "\n",
    "df['Grabber']=df['Grabber'].astype(str)\n",
    "df['Grabber']=df['Grabber'].str.lower()\n",
    "df['issue_flag']=df['Grabber'].apply(grabber_flag)\n",
    "df['issue_flag'].head()"
   ]
  },
  {
   "cell_type": "code",
   "execution_count": 20,
   "metadata": {},
   "outputs": [
    {
     "data": {
      "text/plain": [
       "Index(['Unnamed: 0', 'Title', 'Grabber', 'Specs', 'Price', 'Unnamed: 0.1',\n",
       "       'year', 'style', 'miles', 'engine', 'power', 'transmission', 'fuel',\n",
       "       'owners', 'serv_hist', 'ULEZ', 'CatN', 'doors', 'model', 'issue_flag'],\n",
       "      dtype='object')"
      ]
     },
     "execution_count": 20,
     "metadata": {},
     "output_type": "execute_result"
    }
   ],
   "source": [
    "df.columns"
   ]
  },
  {
   "cell_type": "code",
   "execution_count": 21,
   "metadata": {},
   "outputs": [],
   "source": [
    "df.drop(['Unnamed: 0','Title','Specs','Unnamed: 0.1'],axis=1, inplace=True)"
   ]
  },
  {
   "cell_type": "code",
   "execution_count": 22,
   "metadata": {},
   "outputs": [
    {
     "data": {
      "text/html": [
       "<div>\n",
       "<style scoped>\n",
       "    .dataframe tbody tr th:only-of-type {\n",
       "        vertical-align: middle;\n",
       "    }\n",
       "\n",
       "    .dataframe tbody tr th {\n",
       "        vertical-align: top;\n",
       "    }\n",
       "\n",
       "    .dataframe thead th {\n",
       "        text-align: right;\n",
       "    }\n",
       "</style>\n",
       "<table border=\"1\" class=\"dataframe\">\n",
       "  <thead>\n",
       "    <tr style=\"text-align: right;\">\n",
       "      <th></th>\n",
       "      <th>Grabber</th>\n",
       "      <th>Price</th>\n",
       "      <th>year</th>\n",
       "      <th>style</th>\n",
       "      <th>miles</th>\n",
       "      <th>engine</th>\n",
       "      <th>power</th>\n",
       "      <th>transmission</th>\n",
       "      <th>fuel</th>\n",
       "      <th>owners</th>\n",
       "      <th>serv_hist</th>\n",
       "      <th>ULEZ</th>\n",
       "      <th>CatN</th>\n",
       "      <th>doors</th>\n",
       "      <th>model</th>\n",
       "      <th>issue_flag</th>\n",
       "    </tr>\n",
       "  </thead>\n",
       "  <tbody>\n",
       "    <tr>\n",
       "      <th>0</th>\n",
       "      <td>nan</td>\n",
       "      <td>550.0</td>\n",
       "      <td>2003</td>\n",
       "      <td>Saloon</td>\n",
       "      <td>137000.0</td>\n",
       "      <td>2.2</td>\n",
       "      <td>138.0</td>\n",
       "      <td>Manual</td>\n",
       "      <td>Diesel</td>\n",
       "      <td>3.0</td>\n",
       "      <td>None</td>\n",
       "      <td>0</td>\n",
       "      <td>0</td>\n",
       "      <td>4.0</td>\n",
       "      <td>Honda Accord</td>\n",
       "      <td>0</td>\n",
       "    </tr>\n",
       "    <tr>\n",
       "      <th>1</th>\n",
       "      <td>cheap and most reliable car</td>\n",
       "      <td>705.0</td>\n",
       "      <td>2003</td>\n",
       "      <td>Hatchback</td>\n",
       "      <td>106262.0</td>\n",
       "      <td>1.4</td>\n",
       "      <td>82.0</td>\n",
       "      <td>Manual</td>\n",
       "      <td>Petrol</td>\n",
       "      <td>3.0</td>\n",
       "      <td>None</td>\n",
       "      <td>0</td>\n",
       "      <td>1</td>\n",
       "      <td>5.0</td>\n",
       "      <td>Honda Jazz</td>\n",
       "      <td>0</td>\n",
       "    </tr>\n",
       "    <tr>\n",
       "      <th>2</th>\n",
       "      <td>honda civic 2002</td>\n",
       "      <td>950.0</td>\n",
       "      <td>2002</td>\n",
       "      <td>Hatchback</td>\n",
       "      <td>58000.0</td>\n",
       "      <td>1.4</td>\n",
       "      <td>89.0</td>\n",
       "      <td>Manual</td>\n",
       "      <td>Petrol</td>\n",
       "      <td>5.0</td>\n",
       "      <td>None</td>\n",
       "      <td>0</td>\n",
       "      <td>0</td>\n",
       "      <td>5.0</td>\n",
       "      <td>Honda Civic</td>\n",
       "      <td>0</td>\n",
       "    </tr>\n",
       "    <tr>\n",
       "      <th>3</th>\n",
       "      <td>july 2021 mot+2 keys+</td>\n",
       "      <td>995.0</td>\n",
       "      <td>2006</td>\n",
       "      <td>Hatchback</td>\n",
       "      <td>122500.0</td>\n",
       "      <td>1.4</td>\n",
       "      <td>82.0</td>\n",
       "      <td>Manual</td>\n",
       "      <td>Petrol</td>\n",
       "      <td>3.0</td>\n",
       "      <td>None</td>\n",
       "      <td>1</td>\n",
       "      <td>0</td>\n",
       "      <td>5.0</td>\n",
       "      <td>Honda Jazz</td>\n",
       "      <td>0</td>\n",
       "    </tr>\n",
       "    <tr>\n",
       "      <th>4</th>\n",
       "      <td>call 07977223024 for questions</td>\n",
       "      <td>995.0</td>\n",
       "      <td>2001</td>\n",
       "      <td>Hatchback</td>\n",
       "      <td>91762.0</td>\n",
       "      <td>NaN</td>\n",
       "      <td>89.0</td>\n",
       "      <td>Manual</td>\n",
       "      <td>Petrol</td>\n",
       "      <td>NaN</td>\n",
       "      <td>None</td>\n",
       "      <td>0</td>\n",
       "      <td>0</td>\n",
       "      <td>5.0</td>\n",
       "      <td>Honda Civic</td>\n",
       "      <td>0</td>\n",
       "    </tr>\n",
       "  </tbody>\n",
       "</table>\n",
       "</div>"
      ],
      "text/plain": [
       "                          Grabber  Price  year      style     miles  engine  \\\n",
       "0                             nan  550.0  2003     Saloon  137000.0     2.2   \n",
       "1     cheap and most reliable car  705.0  2003  Hatchback  106262.0     1.4   \n",
       "2                honda civic 2002  950.0  2002  Hatchback   58000.0     1.4   \n",
       "3           july 2021 mot+2 keys+  995.0  2006  Hatchback  122500.0     1.4   \n",
       "4  call 07977223024 for questions  995.0  2001  Hatchback   91762.0     NaN   \n",
       "\n",
       "   power transmission    fuel  owners serv_hist  ULEZ  CatN  doors  \\\n",
       "0  138.0       Manual  Diesel     3.0      None     0     0    4.0   \n",
       "1   82.0       Manual  Petrol     3.0      None     0     1    5.0   \n",
       "2   89.0       Manual  Petrol     5.0      None     0     0    5.0   \n",
       "3   82.0       Manual  Petrol     3.0      None     1     0    5.0   \n",
       "4   89.0       Manual  Petrol     NaN      None     0     0    5.0   \n",
       "\n",
       "          model  issue_flag  \n",
       "0  Honda Accord           0  \n",
       "1    Honda Jazz           0  \n",
       "2   Honda Civic           0  \n",
       "3    Honda Jazz           0  \n",
       "4   Honda Civic           0  "
      ]
     },
     "execution_count": 22,
     "metadata": {},
     "output_type": "execute_result"
    }
   ],
   "source": [
    "df.head()"
   ]
  },
  {
   "cell_type": "code",
   "execution_count": 23,
   "metadata": {},
   "outputs": [],
   "source": [
    "df.to_csv('master_data_cleaned.csv')"
   ]
  }
 ],
 "metadata": {
  "kernelspec": {
   "display_name": "Python 3",
   "language": "python",
   "name": "python3"
  },
  "language_info": {
   "codemirror_mode": {
    "name": "ipython",
    "version": 3
   },
   "file_extension": ".py",
   "mimetype": "text/x-python",
   "name": "python",
   "nbconvert_exporter": "python",
   "pygments_lexer": "ipython3",
   "version": "3.7.6"
  }
 },
 "nbformat": 4,
 "nbformat_minor": 4
}
