{
 "cells": [
  {
   "cell_type": "code",
   "execution_count": 256,
   "metadata": {},
   "outputs": [
    {
     "data": {
      "text/html": [
       "<div>\n",
       "<style scoped>\n",
       "    .dataframe tbody tr th:only-of-type {\n",
       "        vertical-align: middle;\n",
       "    }\n",
       "\n",
       "    .dataframe tbody tr th {\n",
       "        vertical-align: top;\n",
       "    }\n",
       "\n",
       "    .dataframe thead th {\n",
       "        text-align: right;\n",
       "    }\n",
       "</style>\n",
       "<table border=\"1\" class=\"dataframe\">\n",
       "  <thead>\n",
       "    <tr style=\"text-align: right;\">\n",
       "      <th></th>\n",
       "      <th>Unnamed: 0</th>\n",
       "      <th>Title</th>\n",
       "      <th>Grabber</th>\n",
       "      <th>Specs</th>\n",
       "      <th>Price</th>\n",
       "      <th>Unnamed: 0.1</th>\n",
       "    </tr>\n",
       "  </thead>\n",
       "  <tbody>\n",
       "    <tr>\n",
       "      <th>0</th>\n",
       "      <td>0</td>\n",
       "      <td>\\nHonda Cr-V 1.6 i-DTEC S (s/s) 5dr\\n</td>\n",
       "      <td>BLUETOOTH • CRUISE\\t</td>\n",
       "      <td>['2016 (16 reg)', 'SUV', '70,803 miles', '1.6L...</td>\n",
       "      <td>£9,503</td>\n",
       "      <td>0.0</td>\n",
       "    </tr>\n",
       "    <tr>\n",
       "      <th>1</th>\n",
       "      <td>1</td>\n",
       "      <td>\\nHonda Jazz 1.4 i-DSI Sport 5dr\\n</td>\n",
       "      <td>1.4 JAZZ LONG MOT</td>\n",
       "      <td>['\\n\\nCAT\\n\\n\\nWrite-off Category Icon\\n\\n\\n\\n...</td>\n",
       "      <td>£895</td>\n",
       "      <td>1.0</td>\n",
       "    </tr>\n",
       "    <tr>\n",
       "      <th>2</th>\n",
       "      <td>2</td>\n",
       "      <td>\\nHonda Jazz 1.4 i-DSI SE 5dr\\n</td>\n",
       "      <td>New Battery &amp; Brake Pads</td>\n",
       "      <td>['2004 (04 reg)', 'Hatchback', '114,000 miles'...</td>\n",
       "      <td>£425</td>\n",
       "      <td>2.0</td>\n",
       "    </tr>\n",
       "    <tr>\n",
       "      <th>3</th>\n",
       "      <td>3</td>\n",
       "      <td>\\nHonda Civic 1.8 i-VTEC SE 5dr\\n</td>\n",
       "      <td>1.O.F.NEW, F.M.D.S.HISTORY</td>\n",
       "      <td>['2006 (06 reg)', 'Hatchback', '94,000 miles',...</td>\n",
       "      <td>£2,250</td>\n",
       "      <td>3.0</td>\n",
       "    </tr>\n",
       "    <tr>\n",
       "      <th>4</th>\n",
       "      <td>4</td>\n",
       "      <td>\\nHonda Civic 1.4 i-VTEC Si 5dr\\n</td>\n",
       "      <td>NaN</td>\n",
       "      <td>['2010 (60 reg)', 'Hatchback', '123,560 miles'...</td>\n",
       "      <td>£2,288</td>\n",
       "      <td>4.0</td>\n",
       "    </tr>\n",
       "  </tbody>\n",
       "</table>\n",
       "</div>"
      ],
      "text/plain": [
       "   Unnamed: 0                                      Title  \\\n",
       "0           0  \\nHonda Cr-V 1.6 i-DTEC S (s/s) 5dr\\n       \n",
       "1           1     \\nHonda Jazz 1.4 i-DSI Sport 5dr\\n       \n",
       "2           2        \\nHonda Jazz 1.4 i-DSI SE 5dr\\n       \n",
       "3           3      \\nHonda Civic 1.8 i-VTEC SE 5dr\\n       \n",
       "4           4      \\nHonda Civic 1.4 i-VTEC Si 5dr\\n       \n",
       "\n",
       "                      Grabber  \\\n",
       "0        BLUETOOTH • CRUISE\\t   \n",
       "1          1.4 JAZZ LONG MOT    \n",
       "2    New Battery & Brake Pads   \n",
       "3  1.O.F.NEW, F.M.D.S.HISTORY   \n",
       "4                         NaN   \n",
       "\n",
       "                                               Specs   Price  Unnamed: 0.1  \n",
       "0  ['2016 (16 reg)', 'SUV', '70,803 miles', '1.6L...  £9,503           0.0  \n",
       "1  ['\\n\\nCAT\\n\\n\\nWrite-off Category Icon\\n\\n\\n\\n...    £895           1.0  \n",
       "2  ['2004 (04 reg)', 'Hatchback', '114,000 miles'...    £425           2.0  \n",
       "3  ['2006 (06 reg)', 'Hatchback', '94,000 miles',...  £2,250           3.0  \n",
       "4  ['2010 (60 reg)', 'Hatchback', '123,560 miles'...  £2,288           4.0  "
      ]
     },
     "execution_count": 256,
     "metadata": {},
     "output_type": "execute_result"
    }
   ],
   "source": [
    "import pandas as pd \n",
    "import re\n",
    "from ast import literal_eval\n",
    "df=pd.read_csv('Master_data.csv')\n",
    "df.head()"
   ]
  },
  {
   "cell_type": "code",
   "execution_count": 257,
   "metadata": {},
   "outputs": [
    {
     "data": {
      "text/plain": [
       "(114074, 6)"
      ]
     },
     "execution_count": 257,
     "metadata": {},
     "output_type": "execute_result"
    }
   ],
   "source": [
    "df.shape"
   ]
  },
  {
   "cell_type": "code",
   "execution_count": 258,
   "metadata": {},
   "outputs": [
    {
     "data": {
      "text/plain": [
       "0    2016\n",
       "1    2005\n",
       "2    2004\n",
       "3    2006\n",
       "4    2010\n",
       "Name: year, dtype: object"
      ]
     },
     "execution_count": 258,
     "metadata": {},
     "output_type": "execute_result"
    }
   ],
   "source": [
    "df['Specs']=df['Specs'].apply(literal_eval) #string to list\n",
    "#year\n",
    "def get_year(specs):\n",
    "    for i in range(0, len(specs)):\n",
    "        if bool(re.search('\\d\\d\\d\\d', specs[i]))==True and 'reg' in specs[i]: \n",
    "            return specs[i] \n",
    "        \n",
    "df['year']=df['Specs'].apply(get_year)\n",
    "df['year']=df['year'].apply(lambda x: x[:4] if x!=None else None)\n",
    "df['year'].head()"
   ]
  },
  {
   "cell_type": "code",
   "execution_count": 259,
   "metadata": {},
   "outputs": [
    {
     "data": {
      "text/plain": [
       "0          SUV\n",
       "1    Hatchback\n",
       "2    Hatchback\n",
       "3    Hatchback\n",
       "4    Hatchback\n",
       "Name: style, dtype: object"
      ]
     },
     "execution_count": 259,
     "metadata": {},
     "output_type": "execute_result"
    }
   ],
   "source": [
    "#styles\n",
    "list_styles=['Hatchback', 'Estate','Coupe','MPV','Saloon','SUV','Convertible','Pickup']\n",
    "\n",
    "def get_styles(specs):\n",
    "    list_styles=['Hatchback', 'Estate','Coupe','MPV','Saloon','SUV','Convertible','Pickup']\n",
    "    for i in range(0, len(specs)):\n",
    "        if specs[i] in list_styles:\n",
    "            return specs[i]\n",
    "df['style']=df['Specs'].apply(get_styles)\n",
    "df['style'].head()"
   ]
  },
  {
   "cell_type": "code",
   "execution_count": 260,
   "metadata": {},
   "outputs": [
    {
     "data": {
      "text/plain": [
       "0     70803.0\n",
       "1    146000.0\n",
       "2    114000.0\n",
       "3     94000.0\n",
       "4    123560.0\n",
       "Name: miles, dtype: float64"
      ]
     },
     "execution_count": 260,
     "metadata": {},
     "output_type": "execute_result"
    }
   ],
   "source": [
    "#miles  \n",
    "def get_miles(specs):\n",
    "    for i in range(0, len(specs)):\n",
    "        if 'miles' in specs[i]:\n",
    "            return specs[i]\n",
    "df['miles']=df['Specs'].apply(get_miles)\n",
    "df['miles']=df['miles'].apply(lambda x: int(''.join(n for n in x if n.isdigit() )) if x!=None else None)\n",
    "df['miles'].head()"
   ]
  },
  {
   "cell_type": "code",
   "execution_count": 261,
   "metadata": {},
   "outputs": [
    {
     "data": {
      "text/plain": [
       "0    1.6\n",
       "1    1.4\n",
       "2    1.4\n",
       "3    1.8\n",
       "4    1.4\n",
       "Name: engine, dtype: float64"
      ]
     },
     "execution_count": 261,
     "metadata": {},
     "output_type": "execute_result"
    }
   ],
   "source": [
    "#Engine\n",
    "def get_eng(specs): \n",
    "    for i in range(0, len(specs)):\n",
    "        if bool(re.search('\\d\\.(\\d)+[L]',specs[i]))==True: \n",
    "            return specs[i]\n",
    "df['engine']=df['Specs'].apply(get_eng)\n",
    "df['engine']=df['engine'].apply(lambda x: float(''.join(n for n in x if (n.isdigit() or n =='.'))) if x!=None else None)\n",
    "df['engine'].head()"
   ]
  },
  {
   "cell_type": "code",
   "execution_count": 262,
   "metadata": {},
   "outputs": [
    {
     "data": {
      "text/plain": [
       "0    120.0\n",
       "1     82.0\n",
       "2     82.0\n",
       "3    138.0\n",
       "4     98.0\n",
       "Name: power, dtype: float64"
      ]
     },
     "execution_count": 262,
     "metadata": {},
     "output_type": "execute_result"
    }
   ],
   "source": [
    "#horsepower - measurements are resonably comparable so we don't bother converting\n",
    "def get_power(specs):\n",
    "    for i in range(0, len(specs)): \n",
    "        if bool(re.search('(\\d)+[BHPS]{2,3}',specs[i]))==True:\n",
    "            return specs[i]\n",
    "df['power']=df['Specs'].apply(get_power)\n",
    "df['power']=df['power'].apply(lambda x: int(''.join(n for n in x if n.isdigit())) if x!=None else None)\n",
    "df['power'].head()"
   ]
  },
  {
   "cell_type": "code",
   "execution_count": 263,
   "metadata": {},
   "outputs": [
    {
     "data": {
      "text/plain": [
       "0    Manual\n",
       "1    Manual\n",
       "2    Manual\n",
       "3    Manual\n",
       "4    Manual\n",
       "Name: transmission, dtype: object"
      ]
     },
     "execution_count": 263,
     "metadata": {},
     "output_type": "execute_result"
    }
   ],
   "source": [
    "#transmission\n",
    "def get_transmission(specs):\n",
    "    if 'Manual' in specs: \n",
    "        return 'Manual'\n",
    "    elif 'Automatic' in specs: \n",
    "        return 'Automatic'\n",
    "df['transmission']=df['Specs'].apply(get_transmission)\n",
    "df['transmission'].head()"
   ]
  },
  {
   "cell_type": "code",
   "execution_count": 264,
   "metadata": {},
   "outputs": [
    {
     "name": "stdout",
     "output_type": "stream",
     "text": [
      "['Diesel' 'Petrol' None]\n"
     ]
    },
    {
     "data": {
      "text/plain": [
       "0    Diesel\n",
       "1    Petrol\n",
       "2    Petrol\n",
       "3    Petrol\n",
       "4    Petrol\n",
       "Name: fuel, dtype: object"
      ]
     },
     "execution_count": 264,
     "metadata": {},
     "output_type": "execute_result"
    }
   ],
   "source": [
    "#fuel\n",
    "\n",
    "def get_fuel(specs):\n",
    "    if 'Petrol' in specs:\n",
    "        return 'Petrol'\n",
    "    elif 'Diesel' in specs: \n",
    "        return 'Diesel'\n",
    "\n",
    "df['fuel']=df['Specs'].apply(get_fuel)\n",
    "print(df['fuel'].unique())\n",
    "df['fuel'].head()"
   ]
  },
  {
   "cell_type": "code",
   "execution_count": 265,
   "metadata": {},
   "outputs": [
    {
     "data": {
      "text/plain": [
       "0    1.0\n",
       "1    NaN\n",
       "2    4.0\n",
       "3    1.0\n",
       "4    5.0\n",
       "Name: owners, dtype: float64"
      ]
     },
     "execution_count": 265,
     "metadata": {},
     "output_type": "execute_result"
    }
   ],
   "source": [
    "#owners\n",
    "def get_owners(specs):\n",
    "    for i in range(0, len(specs)):\n",
    "        if 'owner' in specs[i]:\n",
    "            return specs[i]\n",
    "df['owners']=df['Specs'].apply(get_owners)\n",
    "df['owners']=df['owners'].apply(lambda x: int(''.join(n for n in x if n.isdigit())) if x!=None else None)\n",
    "df['owners'].head()"
   ]
  },
  {
   "cell_type": "code",
   "execution_count": 266,
   "metadata": {},
   "outputs": [
    {
     "name": "stdout",
     "output_type": "stream",
     "text": [
      "[None 'Full dealership history' 'Full service history'\n",
      " 'Part service history' 'No service history'\n",
      " 'Full service history partially by franchise']\n"
     ]
    },
    {
     "data": {
      "text/plain": [
       "0     None\n",
       "1     None\n",
       "2     None\n",
       "3     None\n",
       "4     None\n",
       "5     None\n",
       "6     None\n",
       "7     None\n",
       "8     None\n",
       "9     None\n",
       "10    None\n",
       "11    Full\n",
       "12    None\n",
       "13    None\n",
       "14    None\n",
       "15    None\n",
       "16    None\n",
       "17    None\n",
       "18    None\n",
       "19    Full\n",
       "Name: serv_hist, dtype: object"
      ]
     },
     "execution_count": 266,
     "metadata": {},
     "output_type": "execute_result"
    }
   ],
   "source": [
    "#servhist\n",
    "def get_servhist(specs):\n",
    "    for i in range(0, len(specs)):\n",
    "        if 'history' in specs[i]:\n",
    "            return specs[i]\n",
    "def serv_convertor(serv):\n",
    "    if serv==None: \n",
    "        return None\n",
    "    elif serv[:4]=='Full':\n",
    "        return 'Full'\n",
    "    elif serv[:4]=='Part':\n",
    "        return 'Part'\n",
    "    else: \n",
    "        return 'No'\n",
    "    \n",
    "df['serv_hist']=df['Specs'].apply(get_servhist)\n",
    "print(df['serv_hist'].unique())\n",
    "df['serv_hist']=df['serv_hist'].apply(serv_convertor)\n",
    "df['serv_hist'].head(20)"
   ]
  },
  {
   "cell_type": "code",
   "execution_count": 267,
   "metadata": {},
   "outputs": [
    {
     "name": "stdout",
     "output_type": "stream",
     "text": [
      "[1 0]\n"
     ]
    },
    {
     "data": {
      "text/plain": [
       "0    1\n",
       "1    1\n",
       "2    0\n",
       "3    1\n",
       "4    1\n",
       "Name: ULEZ, dtype: int64"
      ]
     },
     "execution_count": 267,
     "metadata": {},
     "output_type": "execute_result"
    }
   ],
   "source": [
    "#ULEZ - 1 if has, 0 if not\n",
    "def get_ULEZ(specs):\n",
    "    if 'ULEZ' in specs: \n",
    "        return 1\n",
    "    else: \n",
    "        return 0\n",
    "\n",
    "df['ULEZ']=df['Specs'].apply(get_ULEZ)\n",
    "print(df['ULEZ'].unique())\n",
    "df['ULEZ'].head()"
   ]
  },
  {
   "cell_type": "code",
   "execution_count": 268,
   "metadata": {},
   "outputs": [
    {
     "name": "stdout",
     "output_type": "stream",
     "text": [
      "[0 1]\n"
     ]
    },
    {
     "data": {
      "text/plain": [
       "0    0\n",
       "1    1\n",
       "2    0\n",
       "3    0\n",
       "4    0\n",
       "Name: CatN, dtype: int64"
      ]
     },
     "execution_count": 268,
     "metadata": {},
     "output_type": "execute_result"
    }
   ],
   "source": [
    "#those which were previously written off and repaired \n",
    "df['CatN']= df['Specs'].apply(lambda x: 1 if bool(re.search('\\d\\d\\d\\d', x[0]))==False else 0)\n",
    "print(df['CatN'].unique())\n",
    "df['CatN'].head()"
   ]
  },
  {
   "cell_type": "code",
   "execution_count": 269,
   "metadata": {},
   "outputs": [
    {
     "data": {
      "text/plain": [
       "0    5.0\n",
       "1    5.0\n",
       "2    5.0\n",
       "3    5.0\n",
       "4    5.0\n",
       "Name: doors, dtype: float64"
      ]
     },
     "execution_count": 269,
     "metadata": {},
     "output_type": "execute_result"
    }
   ],
   "source": [
    "#doors\n",
    "def get_doors(title):\n",
    "    try: \n",
    "        return re.search('\\dd(r)?', title)[0]\n",
    "    except TypeError: \n",
    "        return None \n",
    "    \n",
    "df['doors']=df['Title'].apply(get_doors)\n",
    "\n",
    "def door_num(doors):\n",
    "    try:\n",
    "        return re.search('\\d', doors)[0]\n",
    "    except TypeError: \n",
    "        return None\n",
    "    \n",
    "df['doors']=df['doors'].apply(door_num)\n",
    "df['doors']=df['doors'].apply(lambda x: int(x) if x !=None else None)\n",
    "df['doors'].head()"
   ]
  },
  {
   "cell_type": "code",
   "execution_count": 270,
   "metadata": {},
   "outputs": [
    {
     "data": {
      "text/plain": [
       "0     Honda Cr-V\n",
       "1     Honda Jazz\n",
       "2     Honda Jazz\n",
       "3    Honda Civic\n",
       "4    Honda Civic\n",
       "Name: model, dtype: object"
      ]
     },
     "execution_count": 270,
     "metadata": {},
     "output_type": "execute_result"
    }
   ],
   "source": [
    "#make and model\n",
    "def get_make_model(title):\n",
    "    title=title[1:]\n",
    "    words=title.split(' ')\n",
    "    make_model_list=words[0:2] #this wont be perfect but will likely just use brand anyway\n",
    "    make_model=' '.join(make_model_list)\n",
    "    return make_model\n",
    "df['model']=df['Title'].apply(get_make_model)\n",
    "df['model'].head()"
   ]
  },
  {
   "cell_type": "code",
   "execution_count": 271,
   "metadata": {},
   "outputs": [
    {
     "data": {
      "text/plain": [
       "0    £9,503\n",
       "1      £895\n",
       "2      £425\n",
       "3    £2,250\n",
       "4    £2,288\n",
       "5    £1,590\n",
       "6    £2,590\n",
       "7    £2,190\n",
       "8    £1,595\n",
       "9    £1,990\n",
       "Name: Price, dtype: object"
      ]
     },
     "execution_count": 271,
     "metadata": {},
     "output_type": "execute_result"
    }
   ],
   "source": [
    "df['Price'].head(10)"
   ]
  },
  {
   "cell_type": "code",
   "execution_count": 272,
   "metadata": {},
   "outputs": [
    {
     "data": {
      "text/plain": [
       "0    9503.0\n",
       "1     895.0\n",
       "2     425.0\n",
       "3    2250.0\n",
       "4    2288.0\n",
       "5    1590.0\n",
       "6    2590.0\n",
       "7    2190.0\n",
       "8    1595.0\n",
       "9    1990.0\n",
       "Name: Price, dtype: float64"
      ]
     },
     "execution_count": 272,
     "metadata": {},
     "output_type": "execute_result"
    }
   ],
   "source": [
    "#converting prices to float\n",
    "\n",
    "df['Price']=df['Price'].apply(lambda x: float(''.join(n for n in x if (n.isdigit() or n =='.'))))\n",
    "df['Price'].head(10)"
   ]
  },
  {
   "cell_type": "code",
   "execution_count": 274,
   "metadata": {},
   "outputs": [],
   "source": [
    "#flags for issues in grabber\n",
    "list_rep=['damage','damaged','nonrunner','non-runner','non runner','needs','need','px','px to clear','part','parts','exchange','repair','repairs','spare','spares','write off','written off','failed mot','mot fail', 'does not work']\n"
   ]
  },
  {
   "cell_type": "code",
   "execution_count": 275,
   "metadata": {},
   "outputs": [
    {
     "data": {
      "text/plain": [
       "28323    0\n",
       "35923    1\n",
       "47621    1\n",
       "55421    0\n",
       "54126    1\n",
       "Name: issue_flag, dtype: int64"
      ]
     },
     "execution_count": 275,
     "metadata": {},
     "output_type": "execute_result"
    }
   ],
   "source": [
    "def grabber_flag(grabber):\n",
    "    if grabber==None: \n",
    "        return 0\n",
    "    for flag in list_rep: \n",
    "        if flag in grabber: \n",
    "            return 1\n",
    "    return 0\n",
    "\n",
    "df['Grabber']=df['Grabber'].astype(str)\n",
    "df['Grabber']=df['Grabber'].str.lower()\n",
    "df['issue_flag']=df['Grabber'].apply(grabber_flag)\n",
    "df['issue_flag'].head()"
   ]
  },
  {
   "cell_type": "code",
   "execution_count": 276,
   "metadata": {},
   "outputs": [
    {
     "data": {
      "text/plain": [
       "Index(['Unnamed: 0', 'Title', 'Grabber', 'Specs', 'Price', 'Unnamed: 0.1',\n",
       "       'year', 'style', 'miles', 'engine', 'power', 'transmission', 'fuel',\n",
       "       'owners', 'serv_hist', 'ULEZ', 'CatN', 'doors', 'model', 'issue_flag'],\n",
       "      dtype='object')"
      ]
     },
     "execution_count": 276,
     "metadata": {},
     "output_type": "execute_result"
    }
   ],
   "source": [
    "df.columns"
   ]
  },
  {
   "cell_type": "code",
   "execution_count": 277,
   "metadata": {},
   "outputs": [],
   "source": [
    "df.drop(['Unnamed: 0','Title','Specs','Unnamed: 0.1'],axis=1, inplace=True)"
   ]
  },
  {
   "cell_type": "code",
   "execution_count": 278,
   "metadata": {},
   "outputs": [
    {
     "data": {
      "text/html": [
       "<div>\n",
       "<style scoped>\n",
       "    .dataframe tbody tr th:only-of-type {\n",
       "        vertical-align: middle;\n",
       "    }\n",
       "\n",
       "    .dataframe tbody tr th {\n",
       "        vertical-align: top;\n",
       "    }\n",
       "\n",
       "    .dataframe thead th {\n",
       "        text-align: right;\n",
       "    }\n",
       "</style>\n",
       "<table border=\"1\" class=\"dataframe\">\n",
       "  <thead>\n",
       "    <tr style=\"text-align: right;\">\n",
       "      <th></th>\n",
       "      <th>Grabber</th>\n",
       "      <th>Price</th>\n",
       "      <th>year</th>\n",
       "      <th>style</th>\n",
       "      <th>miles</th>\n",
       "      <th>engine</th>\n",
       "      <th>power</th>\n",
       "      <th>transmission</th>\n",
       "      <th>fuel</th>\n",
       "      <th>owners</th>\n",
       "      <th>serv_hist</th>\n",
       "      <th>ULEZ</th>\n",
       "      <th>CatN</th>\n",
       "      <th>doors</th>\n",
       "      <th>model</th>\n",
       "      <th>issue_flag</th>\n",
       "    </tr>\n",
       "  </thead>\n",
       "  <tbody>\n",
       "    <tr>\n",
       "      <th>28323</th>\n",
       "      <td>nan</td>\n",
       "      <td>123.0</td>\n",
       "      <td>2007</td>\n",
       "      <td>Hatchback</td>\n",
       "      <td>145000.0</td>\n",
       "      <td>1.5</td>\n",
       "      <td>105.0</td>\n",
       "      <td>Manual</td>\n",
       "      <td>Diesel</td>\n",
       "      <td>6.0</td>\n",
       "      <td>None</td>\n",
       "      <td>0</td>\n",
       "      <td>1</td>\n",
       "      <td>5.0</td>\n",
       "      <td>Nissan Qashqai</td>\n",
       "      <td>0</td>\n",
       "    </tr>\n",
       "    <tr>\n",
       "      <th>35923</th>\n",
       "      <td>++ part exchange to clear ++</td>\n",
       "      <td>190.0</td>\n",
       "      <td>2005</td>\n",
       "      <td>Hatchback</td>\n",
       "      <td>103524.0</td>\n",
       "      <td>1.2</td>\n",
       "      <td>75.0</td>\n",
       "      <td>Manual</td>\n",
       "      <td>Petrol</td>\n",
       "      <td>NaN</td>\n",
       "      <td>None</td>\n",
       "      <td>0</td>\n",
       "      <td>0</td>\n",
       "      <td>3.0</td>\n",
       "      <td>Renault Clio</td>\n",
       "      <td>1</td>\n",
       "    </tr>\n",
       "    <tr>\n",
       "      <th>47621</th>\n",
       "      <td>selling for parts or repairs</td>\n",
       "      <td>200.0</td>\n",
       "      <td>2002</td>\n",
       "      <td>Hatchback</td>\n",
       "      <td>187014.0</td>\n",
       "      <td>1.0</td>\n",
       "      <td>67.0</td>\n",
       "      <td>Manual</td>\n",
       "      <td>Petrol</td>\n",
       "      <td>4.0</td>\n",
       "      <td>None</td>\n",
       "      <td>0</td>\n",
       "      <td>0</td>\n",
       "      <td>3.0</td>\n",
       "      <td>Toyota Yaris</td>\n",
       "      <td>1</td>\n",
       "    </tr>\n",
       "    <tr>\n",
       "      <th>55421</th>\n",
       "      <td>non turbo model</td>\n",
       "      <td>249.0</td>\n",
       "      <td>1999</td>\n",
       "      <td>Hatchback</td>\n",
       "      <td>135000.0</td>\n",
       "      <td>1.8</td>\n",
       "      <td>125.0</td>\n",
       "      <td>Manual</td>\n",
       "      <td>Petrol</td>\n",
       "      <td>NaN</td>\n",
       "      <td>None</td>\n",
       "      <td>0</td>\n",
       "      <td>0</td>\n",
       "      <td>5.0</td>\n",
       "      <td>Volkswagen Golf</td>\n",
       "      <td>0</td>\n",
       "    </tr>\n",
       "    <tr>\n",
       "      <th>54126</th>\n",
       "      <td>selling as spares or repair</td>\n",
       "      <td>250.0</td>\n",
       "      <td>2001</td>\n",
       "      <td>Hatchback</td>\n",
       "      <td>100000.0</td>\n",
       "      <td>1.4</td>\n",
       "      <td>60.0</td>\n",
       "      <td>Manual</td>\n",
       "      <td>Petrol</td>\n",
       "      <td>5.0</td>\n",
       "      <td>None</td>\n",
       "      <td>1</td>\n",
       "      <td>0</td>\n",
       "      <td>5.0</td>\n",
       "      <td>Volkswagen Polo</td>\n",
       "      <td>1</td>\n",
       "    </tr>\n",
       "  </tbody>\n",
       "</table>\n",
       "</div>"
      ],
      "text/plain": [
       "                             Grabber  Price  year      style     miles  \\\n",
       "28323                            nan  123.0  2007  Hatchback  145000.0   \n",
       "35923   ++ part exchange to clear ++  190.0  2005  Hatchback  103524.0   \n",
       "47621  selling for parts or repairs   200.0  2002  Hatchback  187014.0   \n",
       "55421                non turbo model  249.0  1999  Hatchback  135000.0   \n",
       "54126    selling as spares or repair  250.0  2001  Hatchback  100000.0   \n",
       "\n",
       "       engine  power transmission    fuel  owners serv_hist  ULEZ  CatN  \\\n",
       "28323     1.5  105.0       Manual  Diesel     6.0      None     0     1   \n",
       "35923     1.2   75.0       Manual  Petrol     NaN      None     0     0   \n",
       "47621     1.0   67.0       Manual  Petrol     4.0      None     0     0   \n",
       "55421     1.8  125.0       Manual  Petrol     NaN      None     0     0   \n",
       "54126     1.4   60.0       Manual  Petrol     5.0      None     1     0   \n",
       "\n",
       "       doors            model  issue_flag  \n",
       "28323    5.0   Nissan Qashqai           0  \n",
       "35923    3.0     Renault Clio           1  \n",
       "47621    3.0     Toyota Yaris           1  \n",
       "55421    5.0  Volkswagen Golf           0  \n",
       "54126    5.0  Volkswagen Polo           1  "
      ]
     },
     "execution_count": 278,
     "metadata": {},
     "output_type": "execute_result"
    }
   ],
   "source": [
    "df.head()"
   ]
  },
  {
   "cell_type": "code",
   "execution_count": 279,
   "metadata": {},
   "outputs": [],
   "source": [
    "df.to_csv('master_data_cleaned.csv')"
   ]
  }
 ],
 "metadata": {
  "kernelspec": {
   "display_name": "Python 3",
   "language": "python",
   "name": "python3"
  },
  "language_info": {
   "codemirror_mode": {
    "name": "ipython",
    "version": 3
   },
   "file_extension": ".py",
   "mimetype": "text/x-python",
   "name": "python",
   "nbconvert_exporter": "python",
   "pygments_lexer": "ipython3",
   "version": "3.7.6"
  }
 },
 "nbformat": 4,
 "nbformat_minor": 4
}
